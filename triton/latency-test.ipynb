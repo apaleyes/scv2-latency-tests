{
 "cells": [
  {
   "cell_type": "code",
   "execution_count": 43,
   "metadata": {},
   "outputs": [],
   "source": [
    "import numpy as np\n",
    "import json"
   ]
  },
  {
   "cell_type": "code",
   "execution_count": 35,
   "metadata": {},
   "outputs": [
    {
     "name": "stdout",
     "output_type": "stream",
     "text": [
      "{}\n"
     ]
    }
   ],
   "source": [
    "!seldon model load -f models/add10.yaml"
   ]
  },
  {
   "cell_type": "code",
   "execution_count": 36,
   "metadata": {},
   "outputs": [
    {
     "name": "stdout",
     "output_type": "stream",
     "text": [
      "{}\n"
     ]
    }
   ],
   "source": [
    "!seldon model load -f models/test-caller.yaml"
   ]
  },
  {
   "cell_type": "code",
   "execution_count": 38,
   "metadata": {},
   "outputs": [
    {
     "name": "stdout",
     "output_type": "stream",
     "text": [
      "{}\n"
     ]
    }
   ],
   "source": [
    "!seldon pipeline load -f pipelines/test-caller.yaml"
   ]
  },
  {
   "cell_type": "code",
   "execution_count": 50,
   "metadata": {},
   "outputs": [
    {
     "name": "stdout",
     "output_type": "stream",
     "text": [
      "Error: proto: syntax error (line 1:26): unexpected token null\n"
     ]
    }
   ],
   "source": [
    "input_list = [1,2,3,4,5,6,7,8,9,10,11,12,13,14,15,16]\n",
    "request = {\n",
    "    \"parameters\" : { \"times\": \"10\" },\n",
    "    \"inputs\": [{\n",
    "            \"name\": \"INPUT\",\n",
    "            \"contents\": {\"fp64_contents\": str(input_list)},\n",
    "            \"datatype\": \"FP64\",\n",
    "            \"shape\": f'[1, {str(len(input_list))}]'\n",
    "    }]\n",
    "}\n",
    "request_string = json.dumps(request)\n",
    "\n",
    "\n",
    "!seldon pipeline infer test-caller --inference-mode grpc '{request_string}'"
   ]
  },
  {
   "cell_type": "code",
   "execution_count": 47,
   "metadata": {},
   "outputs": [
    {
     "data": {
      "text/plain": [
       "'{\"parameters\": {\"times\": \"10\"}, \"inputs\": [{\"name\": \"INPUT\", \"contents\": {\"fp64_contents\": \"[1, 2, 3, 4, 5, 6, 7, 8, 9, 10, 11, 12, 13, 14, 15, 16]\"}, \"datatype\": \"FP64\", \"shape\": \"[1, 16]\"}]}'"
      ]
     },
     "execution_count": 47,
     "metadata": {},
     "output_type": "execute_result"
    }
   ],
   "source": [
    "request_string"
   ]
  },
  {
   "cell_type": "code",
   "execution_count": null,
   "metadata": {},
   "outputs": [],
   "source": []
  }
 ],
 "metadata": {
  "kernelspec": {
   "display_name": "Python 3.8.10 ('.venv': venv)",
   "language": "python",
   "name": "python3"
  },
  "language_info": {
   "codemirror_mode": {
    "name": "ipython",
    "version": 3
   },
   "file_extension": ".py",
   "mimetype": "text/x-python",
   "name": "python",
   "nbconvert_exporter": "python",
   "pygments_lexer": "ipython3",
   "version": "3.8.10"
  },
  "orig_nbformat": 4,
  "vscode": {
   "interpreter": {
    "hash": "5acea979f4aea2f6e301689b4c4b4882e31e625a5b06c01142066862b1e75622"
   }
  }
 },
 "nbformat": 4,
 "nbformat_minor": 2
}
